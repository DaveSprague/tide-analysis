{
 "cells": [
  {
   "cell_type": "code",
   "execution_count": null,
   "metadata": {},
   "outputs": [],
   "source": [
    "import pandas as pd\n",
    "import numpy as np\n",
    "import scipy as sp\n",
    "import time\n",
    "import plotly.graph_objs as go"
   ]
  },
  {
   "cell_type": "markdown",
   "metadata": {},
   "source": [
    "## Import Tide Height Measurement Data"
   ]
  },
  {
   "cell_type": "code",
   "execution_count": null,
   "metadata": {},
   "outputs": [],
   "source": [
    "feed_a_pubkey = \"95qr2ub6pbyx\" # modify this to match a public key on belfast.pvos.org\n",
    "\n",
    "base_url = \"http://belfast.pvos.org/data/\"\n",
    "\n",
    "start = time.time()\n",
    "# dfm = pd.read_csv(base_url+feed_a_pubkey+\"/csv/\", index_col='timestamp', parse_dates=True)\n",
    "dfm = pd.read_csv(\"tide_data_95qr2ub6pbyx.csv\", index_col='datetime', parse_dates=True)\n",
    "\n",
    "end = time.time()\n",
    "#dfm.to_csv(\"tide_data_\" + feed_a_pubkey + \".csv\", index=False)\n",
    "# dfm.to_csv(\"tide_data_\" + feed_a_pubkey + \".csv\")\n",
    "\n",
    "print(\"download took: \", end-start, \" seconds\")"
   ]
  },
  {
   "cell_type": "code",
   "execution_count": null,
   "metadata": {},
   "outputs": [],
   "source": [
    "# dfm.to_csv(\"tide_data_\" + feed_a_pubkey + \".csv\")"
   ]
  },
  {
   "cell_type": "code",
   "execution_count": null,
   "metadata": {},
   "outputs": [],
   "source": [
    "dfm.columns"
   ]
  },
  {
   "cell_type": "markdown",
   "metadata": {},
   "source": [
    "Import Divirod Measurement Data"
   ]
  },
  {
   "cell_type": "code",
   "execution_count": null,
   "metadata": {},
   "outputs": [],
   "source": [
    "dfm.index[0]"
   ]
  },
  {
   "cell_type": "code",
   "execution_count": null,
   "metadata": {},
   "outputs": [],
   "source": [
    "dfm.index = pd.to_datetime(dfm.index,unit='s')\n",
    "dfm.index = dfm.index.tz_localize('UTC')\n"
   ]
  },
  {
   "cell_type": "code",
   "execution_count": null,
   "metadata": {},
   "outputs": [],
   "source": [
    "dfm.index[-1]"
   ]
  },
  {
   "cell_type": "code",
   "execution_count": null,
   "metadata": {},
   "outputs": [],
   "source": [
    "dfm = dfm.sort_index()\n",
    "dfm.index[-1]"
   ]
  },
  {
   "cell_type": "code",
   "execution_count": null,
   "metadata": {},
   "outputs": [],
   "source": [
    "dfm.index[0]"
   ]
  },
  {
   "cell_type": "markdown",
   "metadata": {},
   "source": [
    "## Import tide predictions from NOAA"
   ]
  },
  {
   "cell_type": "code",
   "execution_count": null,
   "metadata": {},
   "outputs": [],
   "source": [
    "# START_TIMESTAMP = '2021-10-01 6:00:00'\n",
    "START_TIMESTAMP = dfm.index[0]\n",
    "START_DATE = dfm.index[0].date().strftime('%Y%m%d')\n",
    "END_TIMESTAMP = dfm.index[-1]\n",
    "END_DATE = dfm.index[-1].date().strftime('%Y%m%d')\n",
    "END_DATE"
   ]
  },
  {
   "cell_type": "markdown",
   "metadata": {},
   "source": [
    "## Use an estimate of the sensor height above MLLW to convert Distance to Tide Height"
   ]
  },
  {
   "cell_type": "code",
   "execution_count": null,
   "metadata": {},
   "outputs": [],
   "source": [
    "dfm[\"UltrasonicRadarDifference\"] = dfm['distance_mm'] -  dfm['distance_meters_1']\n",
    "est_us_sensor_height_abv_MLLW_ft = 17.84\n",
    "est_radar_sensor_height_abv_MLLW_ft = 17.84 - (82.96/304.8)  # 17.56782152230971\n",
    "\n",
    "dfm[\"us_height_ft\"] = est_us_sensor_height_abv_MLLW_ft - dfm['distance_mm'] / 304.8\n",
    "dfm[\"radar_height_ft\"] = est_radar_sensor_height_abv_MLLW_ft - dfm['distance_meters_1'] / 304.8\n",
    "\n",
    "\n"
   ]
  },
  {
   "cell_type": "code",
   "execution_count": null,
   "metadata": {},
   "outputs": [],
   "source": [
    "dfm[\"radar_mm\"] = dfm['distance_meters_1']\n",
    "dfm[\"ultrasonic_mm\"] = dfm['distance_mm']\n",
    "dfur_mm = dfm.filter([\"radar_mm\",\"ultrasonic_mm\"], axis=1)"
   ]
  },
  {
   "cell_type": "code",
   "execution_count": null,
   "metadata": {},
   "outputs": [],
   "source": [
    "dfur_mm.to_csv(\"Belfast_Ultrasonic_and_Radar_mm_2021_12_14\" + \".csv\")"
   ]
  },
  {
   "cell_type": "code",
   "execution_count": null,
   "metadata": {},
   "outputs": [],
   "source": [
    "# dfur_mm = pd.read_csv(\"Belfast_Ultrasonic_and_Radar_mm_2021_12_14\" + \".csv\")"
   ]
  },
  {
   "cell_type": "code",
   "execution_count": null,
   "metadata": {},
   "outputs": [],
   "source": [
    "dfur_mm.info()"
   ]
  },
  {
   "cell_type": "code",
   "execution_count": null,
   "metadata": {},
   "outputs": [],
   "source": [
    "dfur_mm.head()"
   ]
  },
  {
   "cell_type": "markdown",
   "metadata": {},
   "source": [
    "## Create a subset containing just the estimated Tide Height with The Start-End time Range"
   ]
  },
  {
   "cell_type": "code",
   "execution_count": null,
   "metadata": {},
   "outputs": [],
   "source": [
    "c0 = dfm.index.to_series().between(START_TIMESTAMP,END_TIMESTAMP)\n",
    "\n",
    "\n",
    "#create a new dataframe using this index\n",
    "height_us=dfm[c0][\"us_height_ft\"]\n",
    "height_radar=dfm[c0][\"radar_height_ft\"]\n",
    "height_delta_radar_us = dfm[c0][\"UltrasonicRadarDifference\"]\n"
   ]
  },
  {
   "cell_type": "code",
   "execution_count": null,
   "metadata": {},
   "outputs": [],
   "source": [
    "station = \"8415191\" # Belfast, Maine\n",
    "start_date = \"20211001\"\n",
    "end_date = END_DATE\n",
    "timezone = \"gmt\"\n",
    "units = \"english\"\n",
    "noaa_url = \"https://api.tidesandcurrents.noaa.gov/api/prod/datagetter?\" +\\\n",
    "            f\"begin_date={start_date}\" +\\\n",
    "            f\"&end_date={end_date}\" +\\\n",
    "            f\"&station={station}\" +\\\n",
    "            \"&product=predictions\" +\\\n",
    "            \"&datum=MLLW\" +\\\n",
    "            f\"&time_zone={timezone}\" +\\\n",
    "            \"&interval=hilo\" +\\\n",
    "            f\"&units={units}\" +\\\n",
    "            \"&format=csv\"\n",
    "start = time.time()\n",
    "dfp = pd.read_csv(noaa_url, index_col='Date Time', parse_dates=True)\n",
    "end = time.time()\n",
    "\n",
    "print(\"download took: \", end-start, \" seconds\")\n",
    "dfp.index = dfp.index.tz_localize('UTC')\n",
    "dfp.index[-1]\n"
   ]
  },
  {
   "cell_type": "code",
   "execution_count": null,
   "metadata": {},
   "outputs": [],
   "source": [
    "dfp.index[0]\n",
    "dfp.head()"
   ]
  },
  {
   "cell_type": "markdown",
   "metadata": {},
   "source": [
    "## Resample height measurements to 6 minute interval"
   ]
  },
  {
   "cell_type": "code",
   "execution_count": null,
   "metadata": {},
   "outputs": [],
   "source": [
    "\n",
    "height_us_6m = height_us.resample('6min').mean()\n",
    "height_radar_6m = height_radar.resample('6min').mean()\n",
    "height_delta_1m = height_delta_radar_us.resample('1min').mean()\n",
    "\n",
    "height_us_6m.to_csv(\"us_tide_height_6min_02Oct2021_to_09Oct2021.csv\")\n",
    "height_radar_6m.to_csv(\"radar_tide_height_6min_02Oct2021_to_09Oct2021.csv\")\n",
    "\n",
    "height_us_6m.head()\n",
    "height_radar_6m.head()\n",
    "height_delta_1m.head()"
   ]
  },
  {
   "cell_type": "code",
   "execution_count": null,
   "metadata": {},
   "outputs": [],
   "source": [
    "height_delta_1m"
   ]
  },
  {
   "cell_type": "code",
   "execution_count": null,
   "metadata": {},
   "outputs": [],
   "source": [
    "height_ur_6m = height_us.resample('6min').mean()\n",
    "# height_radar_6m = height_radar.resample('6min').mean()"
   ]
  },
  {
   "cell_type": "code",
   "execution_count": null,
   "metadata": {},
   "outputs": [],
   "source": [
    "fig = go.Figure()\n",
    "\n",
    "fig.add_trace(go.Scatter(\n",
    "  x=height_ur_6m.index.tz_convert('America/New_York'), \n",
    "  y=height_ur_6m,\n",
    "  mode='lines', \n",
    "  connectgaps= False,\n",
    "  name='Ultrasonic',\n",
    "  ))\n",
    "\n",
    "fig.add_trace(go.Scatter(\n",
    "  x=height_radar_6m.index.tz_convert('America/New_York'), \n",
    "  y=height_radar_6m,\n",
    "  mode='lines', \n",
    "  connectgaps= False,\n",
    "  name='radar',\n",
    "  ))\n",
    "\n",
    "fig.update_layout(\n",
    "    title=\"Ultrasonic and Radar Tide Height, ft above MLLW\",\n",
    ")\n",
    "\n",
    "fig.show()"
   ]
  },
  {
   "cell_type": "markdown",
   "metadata": {},
   "source": [
    "## Plot predicted and measured tides"
   ]
  },
  {
   "cell_type": "code",
   "execution_count": null,
   "metadata": {},
   "outputs": [],
   "source": [
    "# fig = go.Figure()\n",
    "\n",
    "# fig.add_trace(go.Scatter(\n",
    "#   x=height_delta_1m.index.tz_convert('America/New_York'), \n",
    "#   y=height_delta_1m,\n",
    "#   mode='lines', \n",
    "#   connectgaps= False,\n",
    "#   name='delta',\n",
    "#   ))\n",
    "\n",
    "# fig.update_layout(\n",
    "#     title=\"Ultrasonic Measurement minus Radar Measurement, mm\",\n",
    "# )\n",
    "\n",
    "# fig.show()"
   ]
  },
  {
   "cell_type": "code",
   "execution_count": null,
   "metadata": {},
   "outputs": [],
   "source": [
    "# plotly setup and traces\n",
    "\n",
    "colorsIdx = {'H': 'black', 'L': 'black'}\n",
    "cols      = dfp[' Type'].map(colorsIdx)\n",
    "\n",
    "fig = go.Figure()\n",
    "\n",
    "fig.add_trace(go.Scatter(\n",
    "  x=dfp.index.tz_convert('America/New_York'), \n",
    "  y=dfp[' Prediction'],\n",
    "  mode='markers', \n",
    "  connectgaps= True,\n",
    "  name='predictions',\n",
    "  marker=dict(size=6, opacity=0.5,color=cols),\n",
    "  ))\n",
    "\n",
    "fig.add_trace(go.Scatter(\n",
    "  x=height_us_6m.index.tz_convert('America/New_York'), \n",
    "  y=height_us_6m.values,\n",
    "  mode='lines', \n",
    "  connectgaps= True,\n",
    "  name='Ultrasonic',\n",
    "  line = dict(color='green', width=1),\n",
    "  ))\n",
    "\n",
    "fig.add_trace(go.Scatter(\n",
    "  x=height_radar_6m.index.tz_convert('America/New_York'), \n",
    "  y=height_radar_6m.values,\n",
    "  mode='lines', \n",
    "  connectgaps= True,\n",
    "  name='Radar',\n",
    "  line = dict(color='red', width=1),\n",
    "  ))\n",
    "\n",
    "\n",
    "fig.update_layout(\n",
    "    title=\"Predicted vs US and Radar 5 Minute Mean Resample\",\n",
    "    height=600,\n",
    ")\n",
    "\n",
    "  \n",
    "fig.show()\n",
    "\n"
   ]
  },
  {
   "cell_type": "markdown",
   "metadata": {},
   "source": [
    "Resample Height Measurements to 6 Second interval and Plot"
   ]
  },
  {
   "cell_type": "code",
   "execution_count": null,
   "metadata": {},
   "outputs": [],
   "source": [
    "## Plot all samples of Height Measurements (6 per second)"
   ]
  },
  {
   "cell_type": "code",
   "execution_count": null,
   "metadata": {},
   "outputs": [],
   "source": [
    "# colorsIdx = {'H': 'blue', 'L': 'orange'}\n",
    "# cols      = dfp[' Type'].map(colorsIdx)\n",
    "\n",
    "# fig = go.Figure()\n",
    "\n",
    "# fig.add_trace(go.Scatter(\n",
    "#   x=dfp.index.tz_convert('America/New_York'), \n",
    "#   y=dfp[' Prediction'],\n",
    "#   mode='markers', \n",
    "#   connectgaps= True,\n",
    "#   name='predictions',\n",
    "#   marker=dict(size=6, opacity=0.5,color=cols),\n",
    "#   ))\n",
    "\n",
    "# fig.add_trace(go.Scatter(\n",
    "#   x=height_us.index.tz_convert('America/New_York'), \n",
    "#   y=height_us.values,\n",
    "#   mode='lines', \n",
    "#   connectgaps= False,\n",
    "#   name='Ultrasonic',\n",
    "#   line = dict(color='green', width=1),\n",
    "#   ))\n",
    "\n",
    "# fig.add_trace(go.Scatter(\n",
    "#   x=height_radar.index.tz_convert('America/New_York'), \n",
    "#   y=height_radar.values,\n",
    "#   mode='lines', \n",
    "#   connectgaps= False,\n",
    "#   name='Radar',\n",
    "#   line = dict(color='red', width=1),\n",
    "#   ))\n",
    "\n",
    "# fig.update_layout(\n",
    "#     title=\"Predicted vs Measurements 6 Per Second Samples\",\n",
    "# )\n",
    "  \n",
    "# fig.show()"
   ]
  },
  {
   "cell_type": "markdown",
   "metadata": {},
   "source": [
    "## Use \"describe\" aggregration to compute statistics over a time interval"
   ]
  },
  {
   "cell_type": "code",
   "execution_count": null,
   "metadata": {},
   "outputs": [],
   "source": []
  }
 ],
 "metadata": {
  "interpreter": {
   "hash": "b609c7b4c75a045aebe1253cca1961aeae8713bd74d4c3e5d1343b5f2aa66b91"
  },
  "kernelspec": {
   "display_name": "Python 3.8.6 64-bit",
   "name": "python3"
  },
  "language_info": {
   "codemirror_mode": {
    "name": "ipython",
    "version": 3
   },
   "file_extension": ".py",
   "mimetype": "text/x-python",
   "name": "python",
   "nbconvert_exporter": "python",
   "pygments_lexer": "ipython3",
   "version": "3.8.9"
  },
  "orig_nbformat": 3
 },
 "nbformat": 4,
 "nbformat_minor": 4
}
