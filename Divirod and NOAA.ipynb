{
 "cells": [
  {
   "cell_type": "code",
   "execution_count": null,
   "metadata": {},
   "outputs": [],
   "source": [
    "import pandas as pd\n",
    "import numpy as np\n",
    "import scipy as sp\n",
    "import time\n",
    "import plotly.graph_objs as go"
   ]
  },
  {
   "cell_type": "markdown",
   "metadata": {},
   "source": [
    "## Import Tide Height Measurement Data"
   ]
  },
  {
   "cell_type": "markdown",
   "metadata": {},
   "source": [
    "Import Divirod Measurement Data"
   ]
  },
  {
   "cell_type": "code",
   "execution_count": null,
   "metadata": {},
   "outputs": [],
   "source": [
    "dfd_bel = pd.read_csv(\"Belfast, ME-data-2021-11-18 15_10_28.csv\", index_col='Time', parse_dates=True)\n",
    "dfd_cam = pd.read_csv(\"Camden, ME - Camden Yacht Club-data-2021-11-18 15_10_36.csv\", index_col='Time', parse_dates=True)\n",
    "dfd_rkpt = pd.read_csv(\"Rockport, ME - Rockport Harbor-data-2021-11-18 15_10_44.csv\", index_col='Time', parse_dates=True)\n",
    "dfd_rkld = pd.read_csv(\"Rockport, ME - Rockport Harbor-data-2021-11-18 15_10_44.csv\", index_col='Time', parse_dates=True)\n",
    "dfd_tenh = pd.read_csv(\"Tenants Harbor, ME - Private Dock-data-2021-11-18 15_14_21.csv\", index_col='Time', parse_dates=True)"
   ]
  },
  {
   "cell_type": "code",
   "execution_count": null,
   "metadata": {},
   "outputs": [],
   "source": [
    "dfd_bel[\"Height\"] = dfd_bel[\"Height\"].str.replace('[a-z]','',regex=True)\n",
    "dfd_cam[\"Height\"] = dfd_cam[\"Height\"].str.replace('[a-z]','',regex=True)\n",
    "dfd_rkpt[\"Height\"] = dfd_rkpt[\"Height\"].str.replace('[a-z]','',regex=True)\n",
    "dfd_rkld[\"Height\"] = dfd_rkld[\"Height\"].str.replace('[a-z]','',regex=True)\n",
    "dfd_tenh[\"Height\"] = dfd_tenh[\"Height\"].str.replace('[a-z]','',regex=True)\n"
   ]
  },
  {
   "cell_type": "markdown",
   "metadata": {},
   "source": [
    "## Import tide predictions from NOAA"
   ]
  },
  {
   "cell_type": "code",
   "execution_count": null,
   "metadata": {},
   "outputs": [],
   "source": [
    "dfd_bel.index = dfd_bel.index.tz_localize('America/New_York',ambiguous='infer')\n",
    "dfd_cam.index = dfd_cam.index.tz_localize('America/New_York',ambiguous='infer')\n",
    "dfd_rkpt.index = dfd_rkpt.index.tz_localize('America/New_York',ambiguous='infer')\n",
    "dfd_rkld.index = dfd_rkld.index.tz_localize('America/New_York',ambiguous='infer')\n",
    "dfd_tenh.index = dfd_tenh.index.tz_localize('America/New_York',ambiguous='infer')"
   ]
  },
  {
   "cell_type": "code",
   "execution_count": null,
   "metadata": {},
   "outputs": [],
   "source": [
    "dfd_bel.Height = dfd_bel.Height.astype(float)\n",
    "dfd_cam.Height = dfd_cam.Height.astype(float)\n",
    "dfd_rkpt.Height = dfd_rkpt.Height.astype(float)\n",
    "dfd_rkld.Height = dfd_rkld.Height.astype(float)\n",
    "dfd_tenh.Height = dfd_tenh.Height.astype(float)"
   ]
  },
  {
   "cell_type": "code",
   "execution_count": null,
   "metadata": {},
   "outputs": [],
   "source": [
    "START_TIMESTAMP = '2021-10-10 6:00:00'\n",
    "START_DATE = '20211019'\n",
    "END_TIMESTAMP = dfd_cam.index[-1]\n",
    "END_DATE = dfd_cam.index[-1].date().strftime('%Y%m%d')\n",
    "END_DATE"
   ]
  },
  {
   "cell_type": "markdown",
   "metadata": {},
   "source": [
    "## Use an estimate of the sensor height above MLLW to convert Distance to Tide Height"
   ]
  },
  {
   "cell_type": "code",
   "execution_count": null,
   "metadata": {},
   "outputs": [],
   "source": [
    "est_div_bel_sensor_height_avb_MLLW_ft = 13.25\n",
    "dfd_bel[\"div_height_ft\"] = dfd_bel['Height'] + est_div_bel_sensor_height_avb_MLLW_ft\n",
    "\n",
    "est_div_cam_sensor_height_avb_MLLW_ft = 15\n",
    "dfd_cam[\"div_height_ft\"] = dfd_cam['Height'] + est_div_cam_sensor_height_avb_MLLW_ft\n",
    "\n",
    "est_div_rkpt_sensor_height_avb_MLLW_ft = 13.25\n",
    "dfd_rkpt[\"div_height_ft\"] = dfd_rkpt['Height'] + est_div_rkpt_sensor_height_avb_MLLW_ft\n",
    "\n",
    "est_div_rkld_sensor_height_avb_MLLW_ft = 13.25\n",
    "dfd_rkld[\"div_height_ft\"] = dfd_rkld['Height'] + est_div_rkld_sensor_height_avb_MLLW_ft\n",
    "\n",
    "est_div_tenh_sensor_height_avb_MLLW_ft = 16\n",
    "dfd_tenh[\"div_height_ft\"] = dfd_tenh['Height'] + est_div_tenh_sensor_height_avb_MLLW_ft\n",
    "\n",
    "\n"
   ]
  },
  {
   "cell_type": "markdown",
   "metadata": {},
   "source": [
    "## Create a subset containing just the estimated Tide Height with The Start-End time Range"
   ]
  },
  {
   "cell_type": "code",
   "execution_count": null,
   "metadata": {},
   "outputs": [],
   "source": [
    "\n",
    "c0 = dfd_bel.index.to_series().between(START_TIMESTAMP,END_TIMESTAMP)\n",
    "c1 = dfd_cam.index.to_series().between(START_TIMESTAMP,END_TIMESTAMP)\n",
    "c2 = dfd_rkpt.index.to_series().between(START_TIMESTAMP,END_TIMESTAMP)\n",
    "c3 = dfd_rkld.index.to_series().between(START_TIMESTAMP,END_TIMESTAMP)\n",
    "c4 = dfd_tenh.index.to_series().between(START_TIMESTAMP,END_TIMESTAMP)\n",
    "\n",
    "#create a new dataframe using this index\n",
    "\n",
    "height_div_bel = dfd_bel[c0][\"div_height_ft\"]\n",
    "height_div_cam = dfd_cam[c1][\"div_height_ft\"]\n",
    "height_div_rkpt = dfd_rkpt[c2][\"div_height_ft\"]\n",
    "height_div_rkld = dfd_rkld[c3][\"div_height_ft\"]\n",
    "height_div_tenh = dfd_tenh[c4][\"div_height_ft\"]\n",
    "\n",
    "height_div_rkpt[0]"
   ]
  },
  {
   "cell_type": "code",
   "execution_count": null,
   "metadata": {},
   "outputs": [],
   "source": [
    "station = \"8415191\" # Belfast, Maine\n",
    "start_date = START_DATE\n",
    "end_date = END_DATE\n",
    "timezone = \"gmt\"\n",
    "units = \"english\"\n",
    "noaa_url = \"https://api.tidesandcurrents.noaa.gov/api/prod/datagetter?\" +\\\n",
    "            f\"begin_date={start_date}\" +\\\n",
    "            f\"&end_date={end_date}\" +\\\n",
    "            f\"&station={station}\" +\\\n",
    "            \"&product=predictions\" +\\\n",
    "            \"&datum=MLLW\" +\\\n",
    "            f\"&time_zone={timezone}\" +\\\n",
    "            \"&interval=hilo\" +\\\n",
    "            f\"&units={units}\" +\\\n",
    "            \"&format=csv\"\n",
    "start = time.time()\n",
    "dfp_bel = pd.read_csv(noaa_url, index_col='Date Time', parse_dates=True)\n",
    "end = time.time()\n",
    "\n",
    "print(\"download took: \", end-start, \" seconds\")\n",
    "dfp_bel.index = dfp_bel.index.tz_localize('UTC')\n",
    "dfp_bel.index[-1]\n"
   ]
  },
  {
   "cell_type": "code",
   "execution_count": null,
   "metadata": {},
   "outputs": [],
   "source": [
    "station = \"8415490\" # Rockland, Maine\n",
    "start_date = START_DATE\n",
    "end_date = END_DATE\n",
    "timezone = \"gmt\"\n",
    "units = \"english\"\n",
    "noaa_url = \"https://api.tidesandcurrents.noaa.gov/api/prod/datagetter?\" +\\\n",
    "            f\"begin_date={start_date}\" +\\\n",
    "            f\"&end_date={end_date}\" +\\\n",
    "            f\"&station={station}\" +\\\n",
    "            \"&product=predictions\" +\\\n",
    "            \"&datum=MLLW\" +\\\n",
    "            f\"&time_zone={timezone}\" +\\\n",
    "            \"&interval=hilo\" +\\\n",
    "            f\"&units={units}\" +\\\n",
    "            \"&format=csv\"\n",
    "start = time.time()\n",
    "dfp_rkld = pd.read_csv(noaa_url, index_col='Date Time', parse_dates=True)\n",
    "end = time.time()\n",
    "\n",
    "print(\"download took: \", end-start, \" seconds\")\n",
    "dfp_rkld.index = dfp_rkld.index.tz_localize('UTC')\n",
    "dfp_rkld.index[-1]\n"
   ]
  },
  {
   "cell_type": "code",
   "execution_count": null,
   "metadata": {},
   "outputs": [],
   "source": [
    "# plotly setup and traces\n",
    "\n",
    "colorsIdx = {'H': 'red', 'L': 'red'}\n",
    "cols_bel      = dfp_bel[' Type'].map(colorsIdx)\n",
    "\n",
    "colorsIdx2 = {'H': 'blue', 'L': 'blue'}\n",
    "cols_rkld      = dfp_rkld[' Type'].map(colorsIdx2)\n",
    "\n",
    "fig = go.Figure()\n",
    "\n",
    "fig.add_trace(go.Scatter(\n",
    "  x=dfp_bel.index.tz_convert('America/New_York'), \n",
    "  y=dfp_bel[' Prediction'],\n",
    "  mode='markers', \n",
    "  connectgaps= True,\n",
    "  name='belfast predictions',\n",
    "  marker=dict(size=6, opacity=0.5,color=cols_bel),\n",
    "  ))\n",
    "\n",
    "fig.add_trace(go.Scatter(\n",
    "  x=dfp_rkld.index.tz_convert('America/New_York'), \n",
    "  y=dfp_rkld[' Prediction'],\n",
    "  mode='markers', \n",
    "  connectgaps= True,\n",
    "  name='rockland predictions',\n",
    "  marker=dict(size=6, opacity=0.5,color=cols_rkld),\n",
    "  ))\n",
    "\n",
    "fig.add_trace(go.Scatter(\n",
    "  x=height_div_bel.index.tz_convert('America/New_York'), \n",
    "  y=height_div_bel.values,\n",
    "  mode='lines', \n",
    "  connectgaps= True,\n",
    "  name='Divirod Belfast',\n",
    "  line = dict(color='red', width=1),\n",
    "  ))\n",
    "\n",
    "fig.add_trace(go.Scatter(\n",
    "  x=height_div_cam.index.tz_convert('America/New_York'), \n",
    "  y=height_div_cam.values,\n",
    "  mode='lines', \n",
    "  connectgaps= True,\n",
    "  name='Divirod Camden',\n",
    "  line = dict(color='gold', width=1),\n",
    "  ))\n",
    "\n",
    "fig.add_trace(go.Scatter(\n",
    "  x=height_div_rkpt.index.tz_convert('America/New_York'), \n",
    "  y=height_div_rkpt.values,\n",
    "  mode='lines', \n",
    "  connectgaps= True,\n",
    "  name='Divirod Rockport',\n",
    "  line = dict(color='brown', width=1),\n",
    "  ))\n",
    "\n",
    "fig.add_trace(go.Scatter(\n",
    "  x=height_div_rkld.index.tz_convert('America/New_York'), \n",
    "  y=height_div_rkld.values,\n",
    "  mode='lines', \n",
    "  connectgaps= True,\n",
    "  name='Divirod Rockland',\n",
    "  line = dict(color='blue', width=1),\n",
    "  ))\n",
    "\n",
    "fig.add_trace(go.Scatter(\n",
    "  x=height_div_tenh.index.tz_convert('America/New_York'), \n",
    "  y=height_div_tenh.values,\n",
    "  mode='lines', \n",
    "  connectgaps= True,\n",
    "  name='Divirod Tenants Harbor',\n",
    "  line = dict(color='green', width=1),\n",
    "  ))\n",
    "\n",
    "fig.update_layout(\n",
    "    title=\"Divirod vs NOAA Predicted\",\n",
    "    height=600,\n",
    ")\n",
    "\n",
    "  \n",
    "fig.show()\n",
    "\n"
   ]
  },
  {
   "cell_type": "markdown",
   "metadata": {},
   "source": [
    "Resample Height Measurements to 6 Second interval and Plot"
   ]
  },
  {
   "cell_type": "code",
   "execution_count": null,
   "metadata": {},
   "outputs": [],
   "source": [
    "## Plot all samples of Height Measurements (6 per second)"
   ]
  },
  {
   "cell_type": "code",
   "execution_count": null,
   "metadata": {},
   "outputs": [],
   "source": [
    "# colorsIdx = {'H': 'blue', 'L': 'orange'}\n",
    "# cols      = dfp[' Type'].map(colorsIdx)\n",
    "\n",
    "# fig = go.Figure()\n",
    "\n",
    "# fig.add_trace(go.Scatter(\n",
    "#   x=dfp.index.tz_convert('America/New_York'), \n",
    "#   y=dfp[' Prediction'],\n",
    "#   mode='markers', \n",
    "#   connectgaps= True,\n",
    "#   name='predictions',\n",
    "#   marker=dict(size=6, opacity=0.5,color=cols),\n",
    "#   ))\n",
    "\n",
    "# fig.add_trace(go.Scatter(\n",
    "#   x=height_us.index.tz_convert('America/New_York'), \n",
    "#   y=height_us.values,\n",
    "#   mode='lines', \n",
    "#   connectgaps= False,\n",
    "#   name='Ultrasonic',\n",
    "#   line = dict(color='green', width=1),\n",
    "#   ))\n",
    "\n",
    "# fig.add_trace(go.Scatter(\n",
    "#   x=height_radar.index.tz_convert('America/New_York'), \n",
    "#   y=height_radar.values,\n",
    "#   mode='lines', \n",
    "#   connectgaps= False,\n",
    "#   name='Radar',\n",
    "#   line = dict(color='red', width=1),\n",
    "#   ))\n",
    "\n",
    "# fig.update_layout(\n",
    "#     title=\"Predicted vs Measurements 6 Per Second Samples\",\n",
    "# )\n",
    "  \n",
    "# fig.show()"
   ]
  },
  {
   "cell_type": "markdown",
   "metadata": {},
   "source": [
    "## Use \"describe\" aggregration to compute statistics over a time interval"
   ]
  },
  {
   "cell_type": "code",
   "execution_count": null,
   "metadata": {},
   "outputs": [],
   "source": []
  }
 ],
 "metadata": {
  "interpreter": {
   "hash": "b609c7b4c75a045aebe1253cca1961aeae8713bd74d4c3e5d1343b5f2aa66b91"
  },
  "kernelspec": {
   "display_name": "Python 3.8.6 64-bit",
   "name": "python3"
  },
  "language_info": {
   "codemirror_mode": {
    "name": "ipython",
    "version": 3
   },
   "file_extension": ".py",
   "mimetype": "text/x-python",
   "name": "python",
   "nbconvert_exporter": "python",
   "pygments_lexer": "ipython3",
   "version": "3.8.6"
  },
  "orig_nbformat": 3
 },
 "nbformat": 4,
 "nbformat_minor": 4
}
